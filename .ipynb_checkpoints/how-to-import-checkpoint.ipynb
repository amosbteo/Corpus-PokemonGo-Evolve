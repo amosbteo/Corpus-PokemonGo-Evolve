{
 "cells": [
  {
   "cell_type": "code",
   "execution_count": 12,
   "id": "0e44cabd-22d3-4254-a7dd-54d3d3da18e6",
   "metadata": {},
   "outputs": [],
   "source": [
    "import nltk\n",
    "from nltk.corpus import stopwords\n",
    "from nltk.tokenize import word_tokenize\n",
    "from nltk.collocations import BigramCollocationFinder, BigramAssocMeasures"
   ]
  },
  {
   "cell_type": "code",
   "execution_count": 13,
   "id": "9957be70-b732-478a-80b2-ec197cb09b41",
   "metadata": {},
   "outputs": [],
   "source": [
    "# Sample text corpus containing sentences with the word \"innovate\"\n",
    "corpus = [\n",
    "    \"Companies innovate to stay ahead in the market.\",\n",
    "    \"Innovation is crucial for economic growth.\",\n",
    "    \"We need to innovate our business processes to improve efficiency.\"\n",
    "]"
   ]
  },
  {
   "cell_type": "code",
   "execution_count": 14,
   "id": "ddbeca9e-8f70-452e-9056-1b2d8093b236",
   "metadata": {},
   "outputs": [],
   "source": [
    "# Tokenization\n",
    "tokens = [word_tokenize(sentence.lower()) for sentence in corpus]"
   ]
  },
  {
   "cell_type": "code",
   "execution_count": 15,
   "id": "75dd5a9a-ae11-46e1-9575-a95def60f6e6",
   "metadata": {
    "scrolled": true
   },
   "outputs": [],
   "source": [
    "# Filtering\n",
    "stop_words = set(stopwords.words('english'))\n",
    "filtered_tokens = [[word for word in sentence if word.isalnum() and word not in stop_words] for sentence in tokens]"
   ]
  },
  {
   "cell_type": "code",
   "execution_count": 8,
   "id": "3e5973fc-dc88-42ef-95c9-2367d3a7c986",
   "metadata": {},
   "outputs": [
    {
     "name": "stdout",
     "output_type": "stream",
     "text": [
      "Collocations with 'innovate': [('ahead', 'market'), ('business', 'processes'), ('crucial', 'economic'), ('economic', 'growth'), ('improve', 'efficiency')]\n"
     ]
    }
   ],
   "source": [
    "# Collocation identification\n",
    "finder = BigramCollocationFinder.from_documents(filtered_tokens)\n",
    "bigram_measures = BigramAssocMeasures()\n",
    "collocations = finder.nbest(bigram_measures.pmi, 5)\n",
    "\n",
    "print(\"Collocations with 'innovate':\", collocations)"
   ]
  },
  {
   "cell_type": "code",
   "execution_count": 9,
   "id": "0d6328e3-92c2-4d51-ad63-f339ff7d8368",
   "metadata": {},
   "outputs": [
    {
     "name": "stdout",
     "output_type": "stream",
     "text": [
      "Word frequencies: [('to', 3), ('.', 3), ('innovate', 2), ('companies', 1), ('stay', 1), ('ahead', 1), ('in', 1), ('the', 1), ('market', 1), ('innovation', 1), ('is', 1), ('crucial', 1), ('for', 1), ('economic', 1), ('growth', 1), ('we', 1), ('need', 1), ('our', 1), ('business', 1), ('processes', 1), ('improve', 1), ('efficiency', 1)]\n"
     ]
    }
   ],
   "source": [
    "# Frequency analysis\n",
    "word_freq = nltk.FreqDist()\n",
    "for sentence in tokens:\n",
    "    word_freq.update(sentence)\n",
    "\n",
    "print(\"Word frequencies:\", word_freq.most_common())"
   ]
  },
  {
   "cell_type": "code",
   "execution_count": 10,
   "id": "361d9afd-2f13-4e39-a8bb-fbd14d6000d1",
   "metadata": {},
   "outputs": [
    {
     "name": "stdout",
     "output_type": "stream",
     "text": [
      "Context for 'innovate': ['companies', 'to', 'stay', 'ahead']\n",
      "Context for 'innovate': ['we', 'need', 'to', 'our', 'business', 'processes']\n"
     ]
    }
   ],
   "source": [
    "# Contextual analysis\n",
    "context_window = 3  # Number of words before and after the target word for context analysis\n",
    "\n",
    "for sentence in tokens:\n",
    "    for i, word in enumerate(sentence):\n",
    "        if word == 'innovate':  # Target word\n",
    "            start_index = max(0, i - context_window)\n",
    "            end_index = min(len(sentence), i + context_window + 1)\n",
    "            context = sentence[start_index:i] + sentence[i+1:end_index]\n",
    "            print(\"Context for 'innovate':\", context)"
   ]
  },
  {
   "cell_type": "code",
   "execution_count": null,
   "id": "876dd2c3-ac7c-408e-987a-4d52dc49d3b3",
   "metadata": {},
   "outputs": [],
   "source": []
  }
 ],
 "metadata": {
  "kernelspec": {
   "display_name": "Python 3 (ipykernel)",
   "language": "python",
   "name": "python3"
  },
  "language_info": {
   "codemirror_mode": {
    "name": "ipython",
    "version": 3
   },
   "file_extension": ".py",
   "mimetype": "text/x-python",
   "name": "python",
   "nbconvert_exporter": "python",
   "pygments_lexer": "ipython3",
   "version": "3.9.4"
  }
 },
 "nbformat": 4,
 "nbformat_minor": 5
}
